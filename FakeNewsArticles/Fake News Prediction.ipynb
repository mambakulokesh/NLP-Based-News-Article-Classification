{
 "cells": [
  {
   "cell_type": "code",
   "execution_count": 1,
   "metadata": {
    "colab": {},
    "colab_type": "code",
    "executionInfo": {
     "elapsed": 732,
     "status": "ok",
     "timestamp": 1595411469849,
     "user": {
      "displayName": "Keep Music Weird",
      "photoUrl": "https://lh3.googleusercontent.com/a-/AOh14Gi9IyYwcNDdJY9RrMvpMOuSI7FIspu0Dy8OyRZaVg=s64",
      "userId": "00063312648037822198"
     },
     "user_tz": -60
    },
    "id": "5HSzbQT3aaup"
   },
   "outputs": [],
   "source": [
    "import pandas as pd"
   ]
  },
  {
   "cell_type": "code",
   "execution_count": 2,
   "metadata": {
    "colab": {},
    "colab_type": "code",
    "executionInfo": {
     "elapsed": 1328,
     "status": "ok",
     "timestamp": 1595411474416,
     "user": {
      "displayName": "Keep Music Weird",
      "photoUrl": "https://lh3.googleusercontent.com/a-/AOh14Gi9IyYwcNDdJY9RrMvpMOuSI7FIspu0Dy8OyRZaVg=s64",
      "userId": "00063312648037822198"
     },
     "user_tz": -60
    },
    "id": "y4hg8AJRaaux"
   },
   "outputs": [],
   "source": [
    "true = pd.read_csv(r'D:\\2024 Major\\SMEC\\CSE\\Sec - C\\FakeNewsArticles\\Data/True.csv')"
   ]
  },
  {
   "cell_type": "code",
   "execution_count": 3,
   "metadata": {
    "colab": {
     "base_uri": "https://localhost:8080/",
     "height": 142
    },
    "colab_type": "code",
    "executionInfo": {
     "elapsed": 764,
     "status": "ok",
     "timestamp": 1595411477527,
     "user": {
      "displayName": "Keep Music Weird",
      "photoUrl": "https://lh3.googleusercontent.com/a-/AOh14Gi9IyYwcNDdJY9RrMvpMOuSI7FIspu0Dy8OyRZaVg=s64",
      "userId": "00063312648037822198"
     },
     "user_tz": -60
    },
    "id": "AyzhLJ2Paau2",
    "outputId": "caf7eec5-7cf2-45ef-baf0-4c7617c48761"
   },
   "outputs": [
    {
     "data": {
      "text/html": [
       "<div>\n",
       "<style scoped>\n",
       "    .dataframe tbody tr th:only-of-type {\n",
       "        vertical-align: middle;\n",
       "    }\n",
       "\n",
       "    .dataframe tbody tr th {\n",
       "        vertical-align: top;\n",
       "    }\n",
       "\n",
       "    .dataframe thead th {\n",
       "        text-align: right;\n",
       "    }\n",
       "</style>\n",
       "<table border=\"1\" class=\"dataframe\">\n",
       "  <thead>\n",
       "    <tr style=\"text-align: right;\">\n",
       "      <th></th>\n",
       "      <th>title</th>\n",
       "      <th>text</th>\n",
       "      <th>subject</th>\n",
       "      <th>date</th>\n",
       "    </tr>\n",
       "  </thead>\n",
       "  <tbody>\n",
       "    <tr>\n",
       "      <th>0</th>\n",
       "      <td>As U.S. budget fight looms, Republicans flip t...</td>\n",
       "      <td>WASHINGTON (Reuters) - The head of a conservat...</td>\n",
       "      <td>politicsNews</td>\n",
       "      <td>December 31, 2017</td>\n",
       "    </tr>\n",
       "    <tr>\n",
       "      <th>1</th>\n",
       "      <td>U.S. military to accept transgender recruits o...</td>\n",
       "      <td>WASHINGTON (Reuters) - Transgender people will...</td>\n",
       "      <td>politicsNews</td>\n",
       "      <td>December 29, 2017</td>\n",
       "    </tr>\n",
       "    <tr>\n",
       "      <th>2</th>\n",
       "      <td>Senior U.S. Republican senator: 'Let Mr. Muell...</td>\n",
       "      <td>WASHINGTON (Reuters) - The special counsel inv...</td>\n",
       "      <td>politicsNews</td>\n",
       "      <td>December 31, 2017</td>\n",
       "    </tr>\n",
       "  </tbody>\n",
       "</table>\n",
       "</div>"
      ],
      "text/plain": [
       "                                               title  \\\n",
       "0  As U.S. budget fight looms, Republicans flip t...   \n",
       "1  U.S. military to accept transgender recruits o...   \n",
       "2  Senior U.S. Republican senator: 'Let Mr. Muell...   \n",
       "\n",
       "                                                text       subject  \\\n",
       "0  WASHINGTON (Reuters) - The head of a conservat...  politicsNews   \n",
       "1  WASHINGTON (Reuters) - Transgender people will...  politicsNews   \n",
       "2  WASHINGTON (Reuters) - The special counsel inv...  politicsNews   \n",
       "\n",
       "                 date  \n",
       "0  December 31, 2017   \n",
       "1  December 29, 2017   \n",
       "2  December 31, 2017   "
      ]
     },
     "execution_count": 3,
     "metadata": {},
     "output_type": "execute_result"
    }
   ],
   "source": [
    "true.head(3)"
   ]
  },
  {
   "cell_type": "code",
   "execution_count": 4,
   "metadata": {
    "colab": {},
    "colab_type": "code",
    "executionInfo": {
     "elapsed": 1134,
     "status": "ok",
     "timestamp": 1595411485907,
     "user": {
      "displayName": "Keep Music Weird",
      "photoUrl": "https://lh3.googleusercontent.com/a-/AOh14Gi9IyYwcNDdJY9RrMvpMOuSI7FIspu0Dy8OyRZaVg=s64",
      "userId": "00063312648037822198"
     },
     "user_tz": -60
    },
    "id": "2IUF4xFsaau-"
   },
   "outputs": [],
   "source": [
    "fake = pd.read_csv(r'D:\\2024 Major\\SMEC\\CSE\\Sec - C\\FakeNewsArticles\\Data/Fake.csv')"
   ]
  },
  {
   "cell_type": "code",
   "execution_count": 5,
   "metadata": {
    "colab": {
     "base_uri": "https://localhost:8080/",
     "height": 142
    },
    "colab_type": "code",
    "executionInfo": {
     "elapsed": 791,
     "status": "ok",
     "timestamp": 1595411489446,
     "user": {
      "displayName": "Keep Music Weird",
      "photoUrl": "https://lh3.googleusercontent.com/a-/AOh14Gi9IyYwcNDdJY9RrMvpMOuSI7FIspu0Dy8OyRZaVg=s64",
      "userId": "00063312648037822198"
     },
     "user_tz": -60
    },
    "id": "djhflIYvc9Fz",
    "outputId": "727bb2f8-a7c5-46cd-b767-8fc8a9eb875b"
   },
   "outputs": [
    {
     "data": {
      "text/html": [
       "<div>\n",
       "<style scoped>\n",
       "    .dataframe tbody tr th:only-of-type {\n",
       "        vertical-align: middle;\n",
       "    }\n",
       "\n",
       "    .dataframe tbody tr th {\n",
       "        vertical-align: top;\n",
       "    }\n",
       "\n",
       "    .dataframe thead th {\n",
       "        text-align: right;\n",
       "    }\n",
       "</style>\n",
       "<table border=\"1\" class=\"dataframe\">\n",
       "  <thead>\n",
       "    <tr style=\"text-align: right;\">\n",
       "      <th></th>\n",
       "      <th>title</th>\n",
       "      <th>text</th>\n",
       "      <th>subject</th>\n",
       "      <th>date</th>\n",
       "    </tr>\n",
       "  </thead>\n",
       "  <tbody>\n",
       "    <tr>\n",
       "      <th>0</th>\n",
       "      <td>Donald Trump Sends Out Embarrassing New Year’...</td>\n",
       "      <td>Donald Trump just couldn t wish all Americans ...</td>\n",
       "      <td>News</td>\n",
       "      <td>December 31, 2017</td>\n",
       "    </tr>\n",
       "    <tr>\n",
       "      <th>1</th>\n",
       "      <td>Drunk Bragging Trump Staffer Started Russian ...</td>\n",
       "      <td>House Intelligence Committee Chairman Devin Nu...</td>\n",
       "      <td>News</td>\n",
       "      <td>December 31, 2017</td>\n",
       "    </tr>\n",
       "    <tr>\n",
       "      <th>2</th>\n",
       "      <td>Sheriff David Clarke Becomes An Internet Joke...</td>\n",
       "      <td>On Friday, it was revealed that former Milwauk...</td>\n",
       "      <td>News</td>\n",
       "      <td>December 30, 2017</td>\n",
       "    </tr>\n",
       "  </tbody>\n",
       "</table>\n",
       "</div>"
      ],
      "text/plain": [
       "                                               title  \\\n",
       "0   Donald Trump Sends Out Embarrassing New Year’...   \n",
       "1   Drunk Bragging Trump Staffer Started Russian ...   \n",
       "2   Sheriff David Clarke Becomes An Internet Joke...   \n",
       "\n",
       "                                                text subject  \\\n",
       "0  Donald Trump just couldn t wish all Americans ...    News   \n",
       "1  House Intelligence Committee Chairman Devin Nu...    News   \n",
       "2  On Friday, it was revealed that former Milwauk...    News   \n",
       "\n",
       "                date  \n",
       "0  December 31, 2017  \n",
       "1  December 31, 2017  \n",
       "2  December 30, 2017  "
      ]
     },
     "execution_count": 5,
     "metadata": {},
     "output_type": "execute_result"
    }
   ],
   "source": [
    "fake.head(3)"
   ]
  },
  {
   "cell_type": "code",
   "execution_count": 6,
   "metadata": {
    "colab": {
     "base_uri": "https://localhost:8080/",
     "height": 34
    },
    "colab_type": "code",
    "executionInfo": {
     "elapsed": 763,
     "status": "ok",
     "timestamp": 1595411494587,
     "user": {
      "displayName": "Keep Music Weird",
      "photoUrl": "https://lh3.googleusercontent.com/a-/AOh14Gi9IyYwcNDdJY9RrMvpMOuSI7FIspu0Dy8OyRZaVg=s64",
      "userId": "00063312648037822198"
     },
     "user_tz": -60
    },
    "id": "wMwslxEgaavE",
    "outputId": "e8c64101-91b8-4e2d-97d3-c9221918d997"
   },
   "outputs": [
    {
     "data": {
      "text/plain": [
       "(21417, 4)"
      ]
     },
     "execution_count": 6,
     "metadata": {},
     "output_type": "execute_result"
    }
   ],
   "source": [
    "true.shape"
   ]
  },
  {
   "cell_type": "code",
   "execution_count": 7,
   "metadata": {
    "colab": {
     "base_uri": "https://localhost:8080/",
     "height": 34
    },
    "colab_type": "code",
    "executionInfo": {
     "elapsed": 977,
     "status": "ok",
     "timestamp": 1595411497866,
     "user": {
      "displayName": "Keep Music Weird",
      "photoUrl": "https://lh3.googleusercontent.com/a-/AOh14Gi9IyYwcNDdJY9RrMvpMOuSI7FIspu0Dy8OyRZaVg=s64",
      "userId": "00063312648037822198"
     },
     "user_tz": -60
    },
    "id": "-zccgSIgdNFb",
    "outputId": "1f0793d9-589e-4d2d-e626-3b255114e7dd"
   },
   "outputs": [
    {
     "data": {
      "text/plain": [
       "(23481, 4)"
      ]
     },
     "execution_count": 7,
     "metadata": {},
     "output_type": "execute_result"
    }
   ],
   "source": [
    "fake.shape"
   ]
  },
  {
   "cell_type": "code",
   "execution_count": 8,
   "metadata": {
    "colab": {},
    "colab_type": "code",
    "executionInfo": {
     "elapsed": 752,
     "status": "ok",
     "timestamp": 1595411503717,
     "user": {
      "displayName": "Keep Music Weird",
      "photoUrl": "https://lh3.googleusercontent.com/a-/AOh14Gi9IyYwcNDdJY9RrMvpMOuSI7FIspu0Dy8OyRZaVg=s64",
      "userId": "00063312648037822198"
     },
     "user_tz": -60
    },
    "id": "mUN3MznndUyk"
   },
   "outputs": [],
   "source": [
    "true['label'] = 1"
   ]
  },
  {
   "cell_type": "code",
   "execution_count": 9,
   "metadata": {
    "colab": {
     "base_uri": "https://localhost:8080/",
     "height": 142
    },
    "colab_type": "code",
    "executionInfo": {
     "elapsed": 1001,
     "status": "ok",
     "timestamp": 1595411508073,
     "user": {
      "displayName": "Keep Music Weird",
      "photoUrl": "https://lh3.googleusercontent.com/a-/AOh14Gi9IyYwcNDdJY9RrMvpMOuSI7FIspu0Dy8OyRZaVg=s64",
      "userId": "00063312648037822198"
     },
     "user_tz": -60
    },
    "id": "jYYojj0vdf9T",
    "outputId": "820afd05-3c26-40c9-c8f6-c12fcf582a6f"
   },
   "outputs": [
    {
     "data": {
      "text/html": [
       "<div>\n",
       "<style scoped>\n",
       "    .dataframe tbody tr th:only-of-type {\n",
       "        vertical-align: middle;\n",
       "    }\n",
       "\n",
       "    .dataframe tbody tr th {\n",
       "        vertical-align: top;\n",
       "    }\n",
       "\n",
       "    .dataframe thead th {\n",
       "        text-align: right;\n",
       "    }\n",
       "</style>\n",
       "<table border=\"1\" class=\"dataframe\">\n",
       "  <thead>\n",
       "    <tr style=\"text-align: right;\">\n",
       "      <th></th>\n",
       "      <th>title</th>\n",
       "      <th>text</th>\n",
       "      <th>subject</th>\n",
       "      <th>date</th>\n",
       "      <th>label</th>\n",
       "    </tr>\n",
       "  </thead>\n",
       "  <tbody>\n",
       "    <tr>\n",
       "      <th>0</th>\n",
       "      <td>As U.S. budget fight looms, Republicans flip t...</td>\n",
       "      <td>WASHINGTON (Reuters) - The head of a conservat...</td>\n",
       "      <td>politicsNews</td>\n",
       "      <td>December 31, 2017</td>\n",
       "      <td>1</td>\n",
       "    </tr>\n",
       "    <tr>\n",
       "      <th>1</th>\n",
       "      <td>U.S. military to accept transgender recruits o...</td>\n",
       "      <td>WASHINGTON (Reuters) - Transgender people will...</td>\n",
       "      <td>politicsNews</td>\n",
       "      <td>December 29, 2017</td>\n",
       "      <td>1</td>\n",
       "    </tr>\n",
       "    <tr>\n",
       "      <th>2</th>\n",
       "      <td>Senior U.S. Republican senator: 'Let Mr. Muell...</td>\n",
       "      <td>WASHINGTON (Reuters) - The special counsel inv...</td>\n",
       "      <td>politicsNews</td>\n",
       "      <td>December 31, 2017</td>\n",
       "      <td>1</td>\n",
       "    </tr>\n",
       "  </tbody>\n",
       "</table>\n",
       "</div>"
      ],
      "text/plain": [
       "                                               title  \\\n",
       "0  As U.S. budget fight looms, Republicans flip t...   \n",
       "1  U.S. military to accept transgender recruits o...   \n",
       "2  Senior U.S. Republican senator: 'Let Mr. Muell...   \n",
       "\n",
       "                                                text       subject  \\\n",
       "0  WASHINGTON (Reuters) - The head of a conservat...  politicsNews   \n",
       "1  WASHINGTON (Reuters) - Transgender people will...  politicsNews   \n",
       "2  WASHINGTON (Reuters) - The special counsel inv...  politicsNews   \n",
       "\n",
       "                 date  label  \n",
       "0  December 31, 2017       1  \n",
       "1  December 29, 2017       1  \n",
       "2  December 31, 2017       1  "
      ]
     },
     "execution_count": 9,
     "metadata": {},
     "output_type": "execute_result"
    }
   ],
   "source": [
    "true.head(3)"
   ]
  },
  {
   "cell_type": "code",
   "execution_count": 10,
   "metadata": {
    "colab": {},
    "colab_type": "code",
    "executionInfo": {
     "elapsed": 759,
     "status": "ok",
     "timestamp": 1595411513610,
     "user": {
      "displayName": "Keep Music Weird",
      "photoUrl": "https://lh3.googleusercontent.com/a-/AOh14Gi9IyYwcNDdJY9RrMvpMOuSI7FIspu0Dy8OyRZaVg=s64",
      "userId": "00063312648037822198"
     },
     "user_tz": -60
    },
    "id": "kgHXlR0XdiPq"
   },
   "outputs": [],
   "source": [
    "fake['label'] = 0"
   ]
  },
  {
   "cell_type": "code",
   "execution_count": 11,
   "metadata": {
    "colab": {
     "base_uri": "https://localhost:8080/",
     "height": 142
    },
    "colab_type": "code",
    "executionInfo": {
     "elapsed": 793,
     "status": "ok",
     "timestamp": 1595411526441,
     "user": {
      "displayName": "Keep Music Weird",
      "photoUrl": "https://lh3.googleusercontent.com/a-/AOh14Gi9IyYwcNDdJY9RrMvpMOuSI7FIspu0Dy8OyRZaVg=s64",
      "userId": "00063312648037822198"
     },
     "user_tz": -60
    },
    "id": "UE6Px8jh79WT",
    "outputId": "e727e160-af4c-4cc8-8781-ca1107adaa05"
   },
   "outputs": [
    {
     "data": {
      "text/html": [
       "<div>\n",
       "<style scoped>\n",
       "    .dataframe tbody tr th:only-of-type {\n",
       "        vertical-align: middle;\n",
       "    }\n",
       "\n",
       "    .dataframe tbody tr th {\n",
       "        vertical-align: top;\n",
       "    }\n",
       "\n",
       "    .dataframe thead th {\n",
       "        text-align: right;\n",
       "    }\n",
       "</style>\n",
       "<table border=\"1\" class=\"dataframe\">\n",
       "  <thead>\n",
       "    <tr style=\"text-align: right;\">\n",
       "      <th></th>\n",
       "      <th>title</th>\n",
       "      <th>text</th>\n",
       "      <th>subject</th>\n",
       "      <th>date</th>\n",
       "      <th>label</th>\n",
       "    </tr>\n",
       "  </thead>\n",
       "  <tbody>\n",
       "    <tr>\n",
       "      <th>0</th>\n",
       "      <td>Donald Trump Sends Out Embarrassing New Year’...</td>\n",
       "      <td>Donald Trump just couldn t wish all Americans ...</td>\n",
       "      <td>News</td>\n",
       "      <td>December 31, 2017</td>\n",
       "      <td>0</td>\n",
       "    </tr>\n",
       "    <tr>\n",
       "      <th>1</th>\n",
       "      <td>Drunk Bragging Trump Staffer Started Russian ...</td>\n",
       "      <td>House Intelligence Committee Chairman Devin Nu...</td>\n",
       "      <td>News</td>\n",
       "      <td>December 31, 2017</td>\n",
       "      <td>0</td>\n",
       "    </tr>\n",
       "    <tr>\n",
       "      <th>2</th>\n",
       "      <td>Sheriff David Clarke Becomes An Internet Joke...</td>\n",
       "      <td>On Friday, it was revealed that former Milwauk...</td>\n",
       "      <td>News</td>\n",
       "      <td>December 30, 2017</td>\n",
       "      <td>0</td>\n",
       "    </tr>\n",
       "  </tbody>\n",
       "</table>\n",
       "</div>"
      ],
      "text/plain": [
       "                                               title  \\\n",
       "0   Donald Trump Sends Out Embarrassing New Year’...   \n",
       "1   Drunk Bragging Trump Staffer Started Russian ...   \n",
       "2   Sheriff David Clarke Becomes An Internet Joke...   \n",
       "\n",
       "                                                text subject  \\\n",
       "0  Donald Trump just couldn t wish all Americans ...    News   \n",
       "1  House Intelligence Committee Chairman Devin Nu...    News   \n",
       "2  On Friday, it was revealed that former Milwauk...    News   \n",
       "\n",
       "                date  label  \n",
       "0  December 31, 2017      0  \n",
       "1  December 31, 2017      0  \n",
       "2  December 30, 2017      0  "
      ]
     },
     "execution_count": 11,
     "metadata": {},
     "output_type": "execute_result"
    }
   ],
   "source": [
    "fake.head(3)"
   ]
  },
  {
   "cell_type": "code",
   "execution_count": 12,
   "metadata": {
    "colab": {},
    "colab_type": "code",
    "executionInfo": {
     "elapsed": 819,
     "status": "ok",
     "timestamp": 1595411531197,
     "user": {
      "displayName": "Keep Music Weird",
      "photoUrl": "https://lh3.googleusercontent.com/a-/AOh14Gi9IyYwcNDdJY9RrMvpMOuSI7FIspu0Dy8OyRZaVg=s64",
      "userId": "00063312648037822198"
     },
     "user_tz": -60
    },
    "id": "OuiYyCWfdrv5"
   },
   "outputs": [],
   "source": [
    "frames = [true.loc[0:5000][:], fake.loc[0:5000][:]]\n",
    "df = pd.concat(frames)"
   ]
  },
  {
   "cell_type": "code",
   "execution_count": 13,
   "metadata": {
    "colab": {
     "base_uri": "https://localhost:8080/",
     "height": 34
    },
    "colab_type": "code",
    "executionInfo": {
     "elapsed": 797,
     "status": "ok",
     "timestamp": 1595411535238,
     "user": {
      "displayName": "Keep Music Weird",
      "photoUrl": "https://lh3.googleusercontent.com/a-/AOh14Gi9IyYwcNDdJY9RrMvpMOuSI7FIspu0Dy8OyRZaVg=s64",
      "userId": "00063312648037822198"
     },
     "user_tz": -60
    },
    "id": "tcs-WPDHe52o",
    "outputId": "6630597a-5968-45ad-8934-27bf239177eb"
   },
   "outputs": [
    {
     "data": {
      "text/plain": [
       "(10002, 5)"
      ]
     },
     "execution_count": 13,
     "metadata": {},
     "output_type": "execute_result"
    }
   ],
   "source": [
    "df.shape"
   ]
  },
  {
   "cell_type": "code",
   "execution_count": 14,
   "metadata": {
    "colab": {},
    "colab_type": "code",
    "executionInfo": {
     "elapsed": 759,
     "status": "ok",
     "timestamp": 1595411550604,
     "user": {
      "displayName": "Keep Music Weird",
      "photoUrl": "https://lh3.googleusercontent.com/a-/AOh14Gi9IyYwcNDdJY9RrMvpMOuSI7FIspu0Dy8OyRZaVg=s64",
      "userId": "00063312648037822198"
     },
     "user_tz": -60
    },
    "id": "Kq_-4oUngF9H"
   },
   "outputs": [],
   "source": [
    "df = df.sample(frac=1).reset_index(drop=True)"
   ]
  },
  {
   "cell_type": "code",
   "execution_count": 15,
   "metadata": {
    "colab": {
     "base_uri": "https://localhost:8080/",
     "height": 204
    },
    "colab_type": "code",
    "executionInfo": {
     "elapsed": 779,
     "status": "ok",
     "timestamp": 1595411553982,
     "user": {
      "displayName": "Keep Music Weird",
      "photoUrl": "https://lh3.googleusercontent.com/a-/AOh14Gi9IyYwcNDdJY9RrMvpMOuSI7FIspu0Dy8OyRZaVg=s64",
      "userId": "00063312648037822198"
     },
     "user_tz": -60
    },
    "id": "BH-9Fr4FgIF9",
    "outputId": "c1962100-30da-4d46-f136-828ff579597f"
   },
   "outputs": [
    {
     "data": {
      "text/html": [
       "<div>\n",
       "<style scoped>\n",
       "    .dataframe tbody tr th:only-of-type {\n",
       "        vertical-align: middle;\n",
       "    }\n",
       "\n",
       "    .dataframe tbody tr th {\n",
       "        vertical-align: top;\n",
       "    }\n",
       "\n",
       "    .dataframe thead th {\n",
       "        text-align: right;\n",
       "    }\n",
       "</style>\n",
       "<table border=\"1\" class=\"dataframe\">\n",
       "  <thead>\n",
       "    <tr style=\"text-align: right;\">\n",
       "      <th></th>\n",
       "      <th>title</th>\n",
       "      <th>text</th>\n",
       "      <th>subject</th>\n",
       "      <th>date</th>\n",
       "      <th>label</th>\n",
       "    </tr>\n",
       "  </thead>\n",
       "  <tbody>\n",
       "    <tr>\n",
       "      <th>0</th>\n",
       "      <td>Wal-Mart reopens most Gulf region stores after...</td>\n",
       "      <td>(Reuters) - Wal-Mart Stores Inc said on Monday...</td>\n",
       "      <td>politicsNews</td>\n",
       "      <td>September 4, 2017</td>\n",
       "      <td>1</td>\n",
       "    </tr>\n",
       "    <tr>\n",
       "      <th>1</th>\n",
       "      <td>Millions to lose health insurance under Republ...</td>\n",
       "      <td>WASHINGTON (Reuters) - Millions of Americans w...</td>\n",
       "      <td>politicsNews</td>\n",
       "      <td>March 13, 2017</td>\n",
       "      <td>1</td>\n",
       "    </tr>\n",
       "    <tr>\n",
       "      <th>2</th>\n",
       "      <td>Republicans unveil tax cut bill, but the hard ...</td>\n",
       "      <td>WASHINGTON (Reuters) - U.S. House of Represent...</td>\n",
       "      <td>politicsNews</td>\n",
       "      <td>November 2, 2017</td>\n",
       "      <td>1</td>\n",
       "    </tr>\n",
       "    <tr>\n",
       "      <th>3</th>\n",
       "      <td>U.S. Secret Service says 1,100 employees face ...</td>\n",
       "      <td>WASHINGTON (Reuters) - The U.S. Secret Service...</td>\n",
       "      <td>politicsNews</td>\n",
       "      <td>August 21, 2017</td>\n",
       "      <td>1</td>\n",
       "    </tr>\n",
       "    <tr>\n",
       "      <th>4</th>\n",
       "      <td>Massachusetts immigrant ruling could guide oth...</td>\n",
       "      <td>BOSTON (Reuters) - A ruling by Massachusetts’ ...</td>\n",
       "      <td>politicsNews</td>\n",
       "      <td>July 26, 2017</td>\n",
       "      <td>1</td>\n",
       "    </tr>\n",
       "  </tbody>\n",
       "</table>\n",
       "</div>"
      ],
      "text/plain": [
       "                                               title  \\\n",
       "0  Wal-Mart reopens most Gulf region stores after...   \n",
       "1  Millions to lose health insurance under Republ...   \n",
       "2  Republicans unveil tax cut bill, but the hard ...   \n",
       "3  U.S. Secret Service says 1,100 employees face ...   \n",
       "4  Massachusetts immigrant ruling could guide oth...   \n",
       "\n",
       "                                                text       subject  \\\n",
       "0  (Reuters) - Wal-Mart Stores Inc said on Monday...  politicsNews   \n",
       "1  WASHINGTON (Reuters) - Millions of Americans w...  politicsNews   \n",
       "2  WASHINGTON (Reuters) - U.S. House of Represent...  politicsNews   \n",
       "3  WASHINGTON (Reuters) - The U.S. Secret Service...  politicsNews   \n",
       "4  BOSTON (Reuters) - A ruling by Massachusetts’ ...  politicsNews   \n",
       "\n",
       "                 date  label  \n",
       "0  September 4, 2017       1  \n",
       "1     March 13, 2017       1  \n",
       "2   November 2, 2017       1  \n",
       "3    August 21, 2017       1  \n",
       "4      July 26, 2017       1  "
      ]
     },
     "execution_count": 15,
     "metadata": {},
     "output_type": "execute_result"
    }
   ],
   "source": [
    "df.head()"
   ]
  },
  {
   "cell_type": "code",
   "execution_count": 16,
   "metadata": {
    "colab": {},
    "colab_type": "code",
    "executionInfo": {
     "elapsed": 753,
     "status": "ok",
     "timestamp": 1595411601435,
     "user": {
      "displayName": "Keep Music Weird",
      "photoUrl": "https://lh3.googleusercontent.com/a-/AOh14Gi9IyYwcNDdJY9RrMvpMOuSI7FIspu0Dy8OyRZaVg=s64",
      "userId": "00063312648037822198"
     },
     "user_tz": -60
    },
    "id": "Pxi8bk-uaavJ"
   },
   "outputs": [],
   "source": [
    "X = df.drop('label', axis=1)"
   ]
  },
  {
   "cell_type": "code",
   "execution_count": 17,
   "metadata": {
    "colab": {},
    "colab_type": "code",
    "executionInfo": {
     "elapsed": 763,
     "status": "ok",
     "timestamp": 1595411604676,
     "user": {
      "displayName": "Keep Music Weird",
      "photoUrl": "https://lh3.googleusercontent.com/a-/AOh14Gi9IyYwcNDdJY9RrMvpMOuSI7FIspu0Dy8OyRZaVg=s64",
      "userId": "00063312648037822198"
     },
     "user_tz": -60
    },
    "id": "d_WeBCGiaavO"
   },
   "outputs": [],
   "source": [
    "y = df['label']"
   ]
  },
  {
   "cell_type": "code",
   "execution_count": 18,
   "metadata": {
    "colab": {},
    "colab_type": "code",
    "executionInfo": {
     "elapsed": 849,
     "status": "ok",
     "timestamp": 1595411614578,
     "user": {
      "displayName": "Keep Music Weird",
      "photoUrl": "https://lh3.googleusercontent.com/a-/AOh14Gi9IyYwcNDdJY9RrMvpMOuSI7FIspu0Dy8OyRZaVg=s64",
      "userId": "00063312648037822198"
     },
     "user_tz": -60
    },
    "id": "9L1JIPYlaavU"
   },
   "outputs": [],
   "source": [
    "df = df.dropna()"
   ]
  },
  {
   "cell_type": "code",
   "execution_count": 19,
   "metadata": {
    "colab": {},
    "colab_type": "code",
    "executionInfo": {
     "elapsed": 947,
     "status": "ok",
     "timestamp": 1595411633597,
     "user": {
      "displayName": "Keep Music Weird",
      "photoUrl": "https://lh3.googleusercontent.com/a-/AOh14Gi9IyYwcNDdJY9RrMvpMOuSI7FIspu0Dy8OyRZaVg=s64",
      "userId": "00063312648037822198"
     },
     "user_tz": -60
    },
    "id": "ND_3F6KMaavZ"
   },
   "outputs": [],
   "source": [
    "messages = df.copy()"
   ]
  },
  {
   "cell_type": "code",
   "execution_count": 20,
   "metadata": {
    "colab": {},
    "colab_type": "code",
    "executionInfo": {
     "elapsed": 799,
     "status": "ok",
     "timestamp": 1595411638982,
     "user": {
      "displayName": "Keep Music Weird",
      "photoUrl": "https://lh3.googleusercontent.com/a-/AOh14Gi9IyYwcNDdJY9RrMvpMOuSI7FIspu0Dy8OyRZaVg=s64",
      "userId": "00063312648037822198"
     },
     "user_tz": -60
    },
    "id": "Tpep17qWaavg"
   },
   "outputs": [],
   "source": [
    "messages.reset_index(inplace=True)"
   ]
  },
  {
   "cell_type": "code",
   "execution_count": 21,
   "metadata": {
    "colab": {
     "base_uri": "https://localhost:8080/",
     "height": 204
    },
    "colab_type": "code",
    "executionInfo": {
     "elapsed": 799,
     "status": "ok",
     "timestamp": 1595411659735,
     "user": {
      "displayName": "Keep Music Weird",
      "photoUrl": "https://lh3.googleusercontent.com/a-/AOh14Gi9IyYwcNDdJY9RrMvpMOuSI7FIspu0Dy8OyRZaVg=s64",
      "userId": "00063312648037822198"
     },
     "user_tz": -60
    },
    "id": "zSx6a8yTaavk",
    "outputId": "cad686e4-e143-41df-dcf5-2ecc0364eca6"
   },
   "outputs": [
    {
     "data": {
      "text/html": [
       "<div>\n",
       "<style scoped>\n",
       "    .dataframe tbody tr th:only-of-type {\n",
       "        vertical-align: middle;\n",
       "    }\n",
       "\n",
       "    .dataframe tbody tr th {\n",
       "        vertical-align: top;\n",
       "    }\n",
       "\n",
       "    .dataframe thead th {\n",
       "        text-align: right;\n",
       "    }\n",
       "</style>\n",
       "<table border=\"1\" class=\"dataframe\">\n",
       "  <thead>\n",
       "    <tr style=\"text-align: right;\">\n",
       "      <th></th>\n",
       "      <th>index</th>\n",
       "      <th>title</th>\n",
       "      <th>text</th>\n",
       "      <th>subject</th>\n",
       "      <th>date</th>\n",
       "      <th>label</th>\n",
       "    </tr>\n",
       "  </thead>\n",
       "  <tbody>\n",
       "    <tr>\n",
       "      <th>0</th>\n",
       "      <td>0</td>\n",
       "      <td>Wal-Mart reopens most Gulf region stores after...</td>\n",
       "      <td>(Reuters) - Wal-Mart Stores Inc said on Monday...</td>\n",
       "      <td>politicsNews</td>\n",
       "      <td>September 4, 2017</td>\n",
       "      <td>1</td>\n",
       "    </tr>\n",
       "    <tr>\n",
       "      <th>1</th>\n",
       "      <td>1</td>\n",
       "      <td>Millions to lose health insurance under Republ...</td>\n",
       "      <td>WASHINGTON (Reuters) - Millions of Americans w...</td>\n",
       "      <td>politicsNews</td>\n",
       "      <td>March 13, 2017</td>\n",
       "      <td>1</td>\n",
       "    </tr>\n",
       "    <tr>\n",
       "      <th>2</th>\n",
       "      <td>2</td>\n",
       "      <td>Republicans unveil tax cut bill, but the hard ...</td>\n",
       "      <td>WASHINGTON (Reuters) - U.S. House of Represent...</td>\n",
       "      <td>politicsNews</td>\n",
       "      <td>November 2, 2017</td>\n",
       "      <td>1</td>\n",
       "    </tr>\n",
       "    <tr>\n",
       "      <th>3</th>\n",
       "      <td>3</td>\n",
       "      <td>U.S. Secret Service says 1,100 employees face ...</td>\n",
       "      <td>WASHINGTON (Reuters) - The U.S. Secret Service...</td>\n",
       "      <td>politicsNews</td>\n",
       "      <td>August 21, 2017</td>\n",
       "      <td>1</td>\n",
       "    </tr>\n",
       "    <tr>\n",
       "      <th>4</th>\n",
       "      <td>4</td>\n",
       "      <td>Massachusetts immigrant ruling could guide oth...</td>\n",
       "      <td>BOSTON (Reuters) - A ruling by Massachusetts’ ...</td>\n",
       "      <td>politicsNews</td>\n",
       "      <td>July 26, 2017</td>\n",
       "      <td>1</td>\n",
       "    </tr>\n",
       "  </tbody>\n",
       "</table>\n",
       "</div>"
      ],
      "text/plain": [
       "   index                                              title  \\\n",
       "0      0  Wal-Mart reopens most Gulf region stores after...   \n",
       "1      1  Millions to lose health insurance under Republ...   \n",
       "2      2  Republicans unveil tax cut bill, but the hard ...   \n",
       "3      3  U.S. Secret Service says 1,100 employees face ...   \n",
       "4      4  Massachusetts immigrant ruling could guide oth...   \n",
       "\n",
       "                                                text       subject  \\\n",
       "0  (Reuters) - Wal-Mart Stores Inc said on Monday...  politicsNews   \n",
       "1  WASHINGTON (Reuters) - Millions of Americans w...  politicsNews   \n",
       "2  WASHINGTON (Reuters) - U.S. House of Represent...  politicsNews   \n",
       "3  WASHINGTON (Reuters) - The U.S. Secret Service...  politicsNews   \n",
       "4  BOSTON (Reuters) - A ruling by Massachusetts’ ...  politicsNews   \n",
       "\n",
       "                 date  label  \n",
       "0  September 4, 2017       1  \n",
       "1     March 13, 2017       1  \n",
       "2   November 2, 2017       1  \n",
       "3    August 21, 2017       1  \n",
       "4      July 26, 2017       1  "
      ]
     },
     "execution_count": 21,
     "metadata": {},
     "output_type": "execute_result"
    }
   ],
   "source": [
    "messages.head()"
   ]
  },
  {
   "cell_type": "code",
   "execution_count": 22,
   "metadata": {
    "colab": {
     "base_uri": "https://localhost:8080/",
     "height": 35
    },
    "colab_type": "code",
    "executionInfo": {
     "elapsed": 927,
     "status": "ok",
     "timestamp": 1595411669961,
     "user": {
      "displayName": "Keep Music Weird",
      "photoUrl": "https://lh3.googleusercontent.com/a-/AOh14Gi9IyYwcNDdJY9RrMvpMOuSI7FIspu0Dy8OyRZaVg=s64",
      "userId": "00063312648037822198"
     },
     "user_tz": -60
    },
    "id": "qaSRuMGMaavp",
    "outputId": "313e9e3a-d74a-43a1-b7d8-e1975884fc28"
   },
   "outputs": [
    {
     "data": {
      "text/plain": [
       "'Republicans unveil tax cut bill, but the hard work awaits'"
      ]
     },
     "execution_count": 22,
     "metadata": {},
     "output_type": "execute_result"
    }
   ],
   "source": [
    "messages['title'][2]"
   ]
  },
  {
   "cell_type": "code",
   "execution_count": 23,
   "metadata": {
    "colab": {
     "base_uri": "https://localhost:8080/",
     "height": 137
    },
    "colab_type": "code",
    "executionInfo": {
     "elapsed": 818,
     "status": "ok",
     "timestamp": 1595411674117,
     "user": {
      "displayName": "Keep Music Weird",
      "photoUrl": "https://lh3.googleusercontent.com/a-/AOh14Gi9IyYwcNDdJY9RrMvpMOuSI7FIspu0Dy8OyRZaVg=s64",
      "userId": "00063312648037822198"
     },
     "user_tz": -60
    },
    "id": "0Uv90s91aavu",
    "outputId": "b57593da-1909-44fc-d7e0-50a83fcc54dc"
   },
   "outputs": [
    {
     "data": {
      "text/plain": [
       "'WASHINGTON (Reuters) - U.S. House of Representatives Republicans unveiled long-delayed legislation on Thursday to deliver deep tax cuts that President Donald Trump has promised, setting off a frantic race in Congress to give him his first major legislative victory. The 429-page bill, representing what would be the largest overhaul of the U.S. tax system since the 1980s, called for slashing the corporate tax rate to 20 percent from 35 percent, cutting tax rates on individuals and families and ending certain tax breaks for companies and individuals. Congressional passage of this legislation that would affect nearly every U.S. company and family was far from certain, and some business groups quickly came out against it. Contentious provisions will test Republicans, who control the White House and both chambers of Congress but have been unable to deliver any major legislative achievements for Trump since the businessman-turned-politician became president in January. A number of provisions would hit taxpayers in Democratic-leaning states hardest, like rolling back deductions for state and local taxes and cutting in half the popular mortgage interest deduction.  The legislation, called the Tax Cuts and Jobs Act, produces new advantages for rich Americans through lowered corporate taxes, phasing out the estate tax and dumping the alternative minimum tax.  “This is a very important and special moment for our country, for all Americans. Are we going to let the defenders of the status quo win and see our country continue down this downward spiral?” Republican House Speaker Paul Ryan asked, despite data showing about eight straight years of economic growth. Meeting with Ryan and other key House Republicans, Trump told the lawmakers he was counting on them to maintain the momentum for tax cuts, and repeated his request that Congress send him the legislation to sign into law by the U.S. Thanksgiving holiday on Nov. 23. That is an ambitious timetable for such a long, multi-faceted piece of legislation that will face a ferocious lobbying battle among business sectors affected by the bill and fierce opposition from many Democrats. Trump called the bill an “important step” toward tax relief for Americans, adding in a statement, “We are just getting started, and there is much work left to do.” The bill presented by the tax-writing House Ways and Means Committee would consolidate the current number of tax brackets to four from seven: 12 percent, 25 percent, 35 percent and 39.6 percent. An earlier Republican tax outline had called for cutting the top rate for the highest earners to 35 percent. The National Association of Home Builders blasted the legislation, saying it would damage home prices and punish homeowners in urban areas.  “We’re concerned if enacted, this bill will throw us back into another housing recession,” Jerry Howard, the group’s president, said in an interview. The group said the provision in the bill capping the interest deduction for future home purchases at $500,000 - half the current amount - was unacceptable. Howard said 7 million homes are currently above $500,000 and in high-cost regions like Washington, D.C., New York City, California and Hawaii, the impact would be felt the most.  The bill would repeal the existing deduction for state and local income and sales taxes, and would cap the deduction for state and local property taxes at $10,000. Those provisions would most affect Americans in higher-tax states such as California, New York, New Jersey, Pennsylvania and Illinois. The National Federation of Independent Business, the influential small business lobby, also came out against the bill, while the U.S. Chamber of Commerce business lobby backed it. Ryan said the typical family of four would save $1,182 annually on taxes under the bill.  With Democrats solidly opposed to legislation they see as a giveaway to corporations and the rich that would expand the federal deficit, Republicans can ill afford to lose many in their own ranks as they aim to pass the bill in the coming weeks. “Ultimately, what the American people really get from this tax plan is a huge bill for the debt incurred to pay for tax breaks that line the pockets of Donald Trump personally along with his billionaire buddies. Like a Trump University degree, it is phony,” said Democratic congressman Lloyd Doggett. The bill’s architects avoided one showdown by deciding not to make changes to the popular tax-deferred 401(k) retirement savings program. The bill would roughly double the standard deduction for individuals and families. But it would repeal a personal exemption of $4,050 that taxpayers can currently claim for themselves, their spouse and any dependents. The legislation would also phase out tax-exempt financing for sports stadiums and subject large private universities to 1.4-percent excise tax on investment income. It would also repeal a long standing prohibition on religious institutions being involved in political activities. The bill would create a new family tax credit and double exemptions for estate taxes on inherited assets, while also allowing small businesses to write off loan interest. The bill would cap the maximum tax rate on small businesses and other non-corporate enterprises at 25 percent, down from the present maximum rate on “pass-through” income of 39.6 percent. It would set standards for distinguishing between individual wage income and actual pass-through business income to prevent tax-avoidance abuse of the new, lower tax level. It would create a new 10-percent tax on U.S. companies’ high-profit foreign subsidiaries, calculated on a global basis, in a move to prevent companies from moving profits overseas. Foreign businesses operating in the United States would face a tax of up to 20 percent on payments they make overseas from their American operations. U.S. equities have rallied in 2017 to a series of record highs, partly on expectations of deep corporate tax cuts. Shares of U.S. homebuilders fell after the bill was released, with luxury homebuilders including Toll Brothers taking the biggest hit. As investors parsed its provisions, the Dow Jones Industrial Average was up modestly and the S&P 500 was down slightly. Investors cautioned the tax plan was preliminary and it was too soon to gauge the effect on specific industries. [nL2N1N81IG] The Ways and Means Committee will begin formal consideration of the bill next week before the full House can vote on it. It also must pass the Senate, where Republicans hold a slimmer 52-48 majority and earlier this year failed to garner enough votes to approve a major healthcare overhaul sought by Trump. '"
      ]
     },
     "execution_count": 23,
     "metadata": {},
     "output_type": "execute_result"
    }
   ],
   "source": [
    "messages['text'][2]"
   ]
  },
  {
   "cell_type": "markdown",
   "metadata": {
    "colab_type": "text",
    "id": "1cuZmsazaavy"
   },
   "source": [
    "### Preprocessing"
   ]
  },
  {
   "cell_type": "code",
   "execution_count": 24,
   "metadata": {
    "colab": {},
    "colab_type": "code",
    "executionInfo": {
     "elapsed": 1774,
     "status": "ok",
     "timestamp": 1595411691541,
     "user": {
      "displayName": "Keep Music Weird",
      "photoUrl": "https://lh3.googleusercontent.com/a-/AOh14Gi9IyYwcNDdJY9RrMvpMOuSI7FIspu0Dy8OyRZaVg=s64",
      "userId": "00063312648037822198"
     },
     "user_tz": -60
    },
    "id": "NxdHcIjCaavz"
   },
   "outputs": [],
   "source": [
    "from nltk.corpus import stopwords\n",
    "from nltk.stem.porter import PorterStemmer\n",
    "ps = PorterStemmer()"
   ]
  },
  {
   "cell_type": "code",
   "execution_count": null,
   "metadata": {
    "colab": {
     "base_uri": "https://localhost:8080/",
     "height": 51
    },
    "colab_type": "code",
    "executionInfo": {
     "elapsed": 493677,
     "status": "ok",
     "timestamp": 1595412194609,
     "user": {
      "displayName": "Keep Music Weird",
      "photoUrl": "https://lh3.googleusercontent.com/a-/AOh14Gi9IyYwcNDdJY9RrMvpMOuSI7FIspu0Dy8OyRZaVg=s64",
      "userId": "00063312648037822198"
     },
     "user_tz": -60
    },
    "id": "nQG6jyOqaav3",
    "outputId": "5bb3b6f6-91f9-48fc-d675-dbe5436e5fd1"
   },
   "outputs": [
    {
     "name": "stderr",
     "output_type": "stream",
     "text": [
      "[nltk_data] Error loading stopwords: <urlopen error [WinError 10060] A\n",
      "[nltk_data]     connection attempt failed because the connected party\n",
      "[nltk_data]     did not properly respond after a period of time, or\n",
      "[nltk_data]     established connection failed because connected host\n",
      "[nltk_data]     has failed to respond>\n"
     ]
    }
   ],
   "source": [
    "import re\n",
    "import nltk\n",
    "nltk.download('stopwords')\n",
    "\n",
    "corpus = []\n",
    "for i in range(0, len(messages)):\n",
    "    review = re.sub('[^a-zA-Z]', ' ', messages['text'][i])\n",
    "    review = review.lower()\n",
    "    review = review.split()\n",
    "    \n",
    "    review = [ps.stem(word) for word in review if not word in stopwords.words('english')]\n",
    "    review = ' '.join(review)\n",
    "    corpus.append(review)"
   ]
  },
  {
   "cell_type": "code",
   "execution_count": 26,
   "metadata": {
    "colab": {
     "base_uri": "https://localhost:8080/",
     "height": 34
    },
    "colab_type": "code",
    "executionInfo": {
     "elapsed": 793,
     "status": "ok",
     "timestamp": 1595412216062,
     "user": {
      "displayName": "Keep Music Weird",
      "photoUrl": "https://lh3.googleusercontent.com/a-/AOh14Gi9IyYwcNDdJY9RrMvpMOuSI7FIspu0Dy8OyRZaVg=s64",
      "userId": "00063312648037822198"
     },
     "user_tz": -60
    },
    "id": "AF-UqGbbhFEw",
    "outputId": "d53c794d-2a32-47a8-9ef1-85906f9ea64e"
   },
   "outputs": [
    {
     "data": {
      "text/plain": [
       "10002"
      ]
     },
     "execution_count": 26,
     "metadata": {},
     "output_type": "execute_result"
    }
   ],
   "source": [
    "len(corpus)"
   ]
  },
  {
   "cell_type": "code",
   "execution_count": 27,
   "metadata": {
    "colab": {},
    "colab_type": "code",
    "executionInfo": {
     "elapsed": 894,
     "status": "ok",
     "timestamp": 1595412233928,
     "user": {
      "displayName": "Keep Music Weird",
      "photoUrl": "https://lh3.googleusercontent.com/a-/AOh14Gi9IyYwcNDdJY9RrMvpMOuSI7FIspu0Dy8OyRZaVg=s64",
      "userId": "00063312648037822198"
     },
     "user_tz": -60
    },
    "id": "1SeZ_i3Baav7"
   },
   "outputs": [],
   "source": [
    "## TFidf Vectorizer\n",
    "from sklearn.feature_extraction.text import TfidfVectorizer\n",
    "\n",
    "tfidf_v = TfidfVectorizer(max_features=5000, ngram_range=(1,3))"
   ]
  },
  {
   "cell_type": "code",
   "execution_count": 28,
   "metadata": {
    "colab": {
     "base_uri": "https://localhost:8080/",
     "height": 374
    },
    "colab_type": "code",
    "executionInfo": {
     "elapsed": 903,
     "status": "ok",
     "timestamp": 1595412237154,
     "user": {
      "displayName": "Keep Music Weird",
      "photoUrl": "https://lh3.googleusercontent.com/a-/AOh14Gi9IyYwcNDdJY9RrMvpMOuSI7FIspu0Dy8OyRZaVg=s64",
      "userId": "00063312648037822198"
     },
     "user_tz": -60
    },
    "id": "9lAsvIwEaav_",
    "outputId": "250f5328-b026-47a0-c511-302a40903bd2"
   },
   "outputs": [
    {
     "data": {
      "text/plain": [
       "{'analyzer': 'word',\n",
       " 'binary': False,\n",
       " 'decode_error': 'strict',\n",
       " 'dtype': numpy.float64,\n",
       " 'encoding': 'utf-8',\n",
       " 'input': 'content',\n",
       " 'lowercase': True,\n",
       " 'max_df': 1.0,\n",
       " 'max_features': 5000,\n",
       " 'min_df': 1,\n",
       " 'ngram_range': (1, 3),\n",
       " 'norm': 'l2',\n",
       " 'preprocessor': None,\n",
       " 'smooth_idf': True,\n",
       " 'stop_words': None,\n",
       " 'strip_accents': None,\n",
       " 'sublinear_tf': False,\n",
       " 'token_pattern': '(?u)\\\\b\\\\w\\\\w+\\\\b',\n",
       " 'tokenizer': None,\n",
       " 'use_idf': True,\n",
       " 'vocabulary': None}"
      ]
     },
     "execution_count": 28,
     "metadata": {},
     "output_type": "execute_result"
    }
   ],
   "source": [
    "tfidf_v.get_params()"
   ]
  },
  {
   "cell_type": "code",
   "execution_count": 29,
   "metadata": {
    "colab": {},
    "colab_type": "code",
    "executionInfo": {
     "elapsed": 25113,
     "status": "ok",
     "timestamp": 1595412277825,
     "user": {
      "displayName": "Keep Music Weird",
      "photoUrl": "https://lh3.googleusercontent.com/a-/AOh14Gi9IyYwcNDdJY9RrMvpMOuSI7FIspu0Dy8OyRZaVg=s64",
      "userId": "00063312648037822198"
     },
     "user_tz": -60
    },
    "id": "p8kKe91LaawM"
   },
   "outputs": [],
   "source": [
    "X = tfidf_v.fit_transform(corpus).toarray()\n",
    "y = messages['label']"
   ]
  },
  {
   "cell_type": "code",
   "execution_count": 32,
   "metadata": {
    "colab": {},
    "colab_type": "code",
    "executionInfo": {
     "elapsed": 834,
     "status": "ok",
     "timestamp": 1595412296543,
     "user": {
      "displayName": "Keep Music Weird",
      "photoUrl": "https://lh3.googleusercontent.com/a-/AOh14Gi9IyYwcNDdJY9RrMvpMOuSI7FIspu0Dy8OyRZaVg=s64",
      "userId": "00063312648037822198"
     },
     "user_tz": -60
    },
    "id": "wF760bkkaawQ"
   },
   "outputs": [],
   "source": [
    "## Divide the dataset into Train and Test\n",
    "from sklearn.model_selection import train_test_split\n",
    "\n",
    "X_train, X_test, y_train, y_test = train_test_split(X, y, test_size=0.2, random_state=0)"
   ]
  },
  {
   "cell_type": "code",
   "execution_count": 33,
   "metadata": {
    "colab": {
     "base_uri": "https://localhost:8080/",
     "height": 225
    },
    "colab_type": "code",
    "executionInfo": {
     "elapsed": 858,
     "status": "ok",
     "timestamp": 1595412301194,
     "user": {
      "displayName": "Keep Music Weird",
      "photoUrl": "https://lh3.googleusercontent.com/a-/AOh14Gi9IyYwcNDdJY9RrMvpMOuSI7FIspu0Dy8OyRZaVg=s64",
      "userId": "00063312648037822198"
     },
     "user_tz": -60
    },
    "id": "w4eJ0YPraawU",
    "outputId": "182d684b-35fc-4747-b552-95b7577dedaa"
   },
   "outputs": [
    {
     "data": {
      "text/html": [
       "<div>\n",
       "<style scoped>\n",
       "    .dataframe tbody tr th:only-of-type {\n",
       "        vertical-align: middle;\n",
       "    }\n",
       "\n",
       "    .dataframe tbody tr th {\n",
       "        vertical-align: top;\n",
       "    }\n",
       "\n",
       "    .dataframe thead th {\n",
       "        text-align: right;\n",
       "    }\n",
       "</style>\n",
       "<table border=\"1\" class=\"dataframe\">\n",
       "  <thead>\n",
       "    <tr style=\"text-align: right;\">\n",
       "      <th></th>\n",
       "      <th>abandon</th>\n",
       "      <th>abc</th>\n",
       "      <th>abc news</th>\n",
       "      <th>abe</th>\n",
       "      <th>abil</th>\n",
       "      <th>abl</th>\n",
       "      <th>abort</th>\n",
       "      <th>abroad</th>\n",
       "      <th>absolut</th>\n",
       "      <th>absurd</th>\n",
       "      <th>...</th>\n",
       "      <th>york reuter</th>\n",
       "      <th>york time</th>\n",
       "      <th>york time report</th>\n",
       "      <th>young</th>\n",
       "      <th>young peopl</th>\n",
       "      <th>younger</th>\n",
       "      <th>youtub</th>\n",
       "      <th>zero</th>\n",
       "      <th>zink</th>\n",
       "      <th>zone</th>\n",
       "    </tr>\n",
       "  </thead>\n",
       "  <tbody>\n",
       "    <tr>\n",
       "      <th>0</th>\n",
       "      <td>0.0</td>\n",
       "      <td>0.0</td>\n",
       "      <td>0.0</td>\n",
       "      <td>0.0</td>\n",
       "      <td>0.0</td>\n",
       "      <td>0.0</td>\n",
       "      <td>0.00000</td>\n",
       "      <td>0.0</td>\n",
       "      <td>0.000000</td>\n",
       "      <td>0.0</td>\n",
       "      <td>...</td>\n",
       "      <td>0.0</td>\n",
       "      <td>0.0</td>\n",
       "      <td>0.0</td>\n",
       "      <td>0.0</td>\n",
       "      <td>0.0</td>\n",
       "      <td>0.0</td>\n",
       "      <td>0.0</td>\n",
       "      <td>0.0</td>\n",
       "      <td>0.0</td>\n",
       "      <td>0.0</td>\n",
       "    </tr>\n",
       "    <tr>\n",
       "      <th>1</th>\n",
       "      <td>0.0</td>\n",
       "      <td>0.0</td>\n",
       "      <td>0.0</td>\n",
       "      <td>0.0</td>\n",
       "      <td>0.0</td>\n",
       "      <td>0.0</td>\n",
       "      <td>0.07966</td>\n",
       "      <td>0.0</td>\n",
       "      <td>0.000000</td>\n",
       "      <td>0.0</td>\n",
       "      <td>...</td>\n",
       "      <td>0.0</td>\n",
       "      <td>0.0</td>\n",
       "      <td>0.0</td>\n",
       "      <td>0.0</td>\n",
       "      <td>0.0</td>\n",
       "      <td>0.0</td>\n",
       "      <td>0.0</td>\n",
       "      <td>0.0</td>\n",
       "      <td>0.0</td>\n",
       "      <td>0.0</td>\n",
       "    </tr>\n",
       "    <tr>\n",
       "      <th>2</th>\n",
       "      <td>0.0</td>\n",
       "      <td>0.0</td>\n",
       "      <td>0.0</td>\n",
       "      <td>0.0</td>\n",
       "      <td>0.0</td>\n",
       "      <td>0.0</td>\n",
       "      <td>0.00000</td>\n",
       "      <td>0.0</td>\n",
       "      <td>0.048147</td>\n",
       "      <td>0.0</td>\n",
       "      <td>...</td>\n",
       "      <td>0.0</td>\n",
       "      <td>0.0</td>\n",
       "      <td>0.0</td>\n",
       "      <td>0.0</td>\n",
       "      <td>0.0</td>\n",
       "      <td>0.0</td>\n",
       "      <td>0.0</td>\n",
       "      <td>0.0</td>\n",
       "      <td>0.0</td>\n",
       "      <td>0.0</td>\n",
       "    </tr>\n",
       "  </tbody>\n",
       "</table>\n",
       "<p>3 rows × 5000 columns</p>\n",
       "</div>"
      ],
      "text/plain": [
       "   abandon  abc  abc news  abe  abil  abl    abort  abroad   absolut  absurd  \\\n",
       "0      0.0  0.0       0.0  0.0   0.0  0.0  0.00000     0.0  0.000000     0.0   \n",
       "1      0.0  0.0       0.0  0.0   0.0  0.0  0.07966     0.0  0.000000     0.0   \n",
       "2      0.0  0.0       0.0  0.0   0.0  0.0  0.00000     0.0  0.048147     0.0   \n",
       "\n",
       "   ...  york reuter  york time  york time report  young  young peopl  younger  \\\n",
       "0  ...          0.0        0.0               0.0    0.0          0.0      0.0   \n",
       "1  ...          0.0        0.0               0.0    0.0          0.0      0.0   \n",
       "2  ...          0.0        0.0               0.0    0.0          0.0      0.0   \n",
       "\n",
       "   youtub  zero  zink  zone  \n",
       "0     0.0   0.0   0.0   0.0  \n",
       "1     0.0   0.0   0.0   0.0  \n",
       "2     0.0   0.0   0.0   0.0  \n",
       "\n",
       "[3 rows x 5000 columns]"
      ]
     },
     "execution_count": 33,
     "metadata": {},
     "output_type": "execute_result"
    }
   ],
   "source": [
    "count_df = pd.DataFrame(X_train, columns=tfidf_v.get_feature_names_out())\n",
    "count_df.head(3)"
   ]
  },
  {
   "cell_type": "markdown",
   "metadata": {
    "colab_type": "text",
    "id": "OwA5_F5saawZ"
   },
   "source": [
    "### Passive Aggressive Classifier - Baseline"
   ]
  },
  {
   "cell_type": "code",
   "execution_count": 34,
   "metadata": {
    "colab": {},
    "colab_type": "code",
    "executionInfo": {
     "elapsed": 743,
     "status": "ok",
     "timestamp": 1595412318961,
     "user": {
      "displayName": "Keep Music Weird",
      "photoUrl": "https://lh3.googleusercontent.com/a-/AOh14Gi9IyYwcNDdJY9RrMvpMOuSI7FIspu0Dy8OyRZaVg=s64",
      "userId": "00063312648037822198"
     },
     "user_tz": -60
    },
    "id": "hwNEWGLQaawZ"
   },
   "outputs": [],
   "source": [
    "from sklearn.linear_model import PassiveAggressiveClassifier\n",
    "classifier = PassiveAggressiveClassifier(max_iter=1000)"
   ]
  },
  {
   "cell_type": "code",
   "execution_count": 35,
   "metadata": {
    "colab": {
     "base_uri": "https://localhost:8080/",
     "height": 34
    },
    "colab_type": "code",
    "executionInfo": {
     "elapsed": 2082,
     "status": "ok",
     "timestamp": 1595412323708,
     "user": {
      "displayName": "Keep Music Weird",
      "photoUrl": "https://lh3.googleusercontent.com/a-/AOh14Gi9IyYwcNDdJY9RrMvpMOuSI7FIspu0Dy8OyRZaVg=s64",
      "userId": "00063312648037822198"
     },
     "user_tz": -60
    },
    "id": "3yJhqJ3aaawd",
    "outputId": "cb9e138f-90d3-4e1f-f433-0f213c8e4a5f"
   },
   "outputs": [
    {
     "name": "stdout",
     "output_type": "stream",
     "text": [
      "accuracy:   1.000\n"
     ]
    }
   ],
   "source": [
    "from sklearn import metrics\n",
    "import numpy as np\n",
    "import itertools\n",
    "\n",
    "classifier.fit(X_train, y_train)\n",
    "\n",
    "pred = classifier.predict(X_test)\n",
    "\n",
    "score = metrics.accuracy_score(y_test, pred)\n",
    "print(\"accuracy:   %0.3f\" % score)"
   ]
  },
  {
   "cell_type": "code",
   "execution_count": 36,
   "metadata": {
    "colab": {},
    "colab_type": "code",
    "executionInfo": {
     "elapsed": 824,
     "status": "ok",
     "timestamp": 1595412328762,
     "user": {
      "displayName": "Keep Music Weird",
      "photoUrl": "https://lh3.googleusercontent.com/a-/AOh14Gi9IyYwcNDdJY9RrMvpMOuSI7FIspu0Dy8OyRZaVg=s64",
      "userId": "00063312648037822198"
     },
     "user_tz": -60
    },
    "id": "UqqEobQzaawh"
   },
   "outputs": [],
   "source": [
    "import matplotlib.pyplot as plt\n",
    "\n",
    "def plot_confusion_matrix(cm, classes,\n",
    "                          normalize=False,\n",
    "                          title='Confusion matrix',\n",
    "                          cmap=plt.cm.Blues):\n",
    "    \"\"\"\n",
    "    See full source and example: \n",
    "    http://scikit-learn.org/stable/auto_examples/model_selection/plot_confusion_matrix.html\n",
    "    \n",
    "    This function prints and plots the confusion matrix.\n",
    "    Normalization can be applied by setting `normalize=True`.\n",
    "    \"\"\"\n",
    "    plt.imshow(cm, interpolation='nearest', cmap=cmap)\n",
    "    plt.title(title)\n",
    "    plt.colorbar()\n",
    "    tick_marks = np.arange(len(classes))\n",
    "    plt.xticks(tick_marks, classes, rotation=45)\n",
    "    plt.yticks(tick_marks, classes)\n",
    "\n",
    "    if normalize:\n",
    "        cm = cm.astype('float') / cm.sum(axis=1)[:, np.newaxis]\n",
    "        print(\"Normalized confusion matrix\")\n",
    "    else:\n",
    "        print('Confusion matrix, without normalization')\n",
    "\n",
    "    thresh = cm.max() / 2.\n",
    "    for i, j in itertools.product(range(cm.shape[0]), range(cm.shape[1])):\n",
    "        plt.text(j, i, cm[i, j],\n",
    "                 horizontalalignment=\"center\",\n",
    "                 color=\"white\" if cm[i, j] > thresh else \"black\")\n",
    "\n",
    "    plt.tight_layout()\n",
    "    plt.ylabel('True label')\n",
    "    plt.xlabel('Predicted label')"
   ]
  },
  {
   "cell_type": "code",
   "execution_count": 37,
   "metadata": {
    "colab": {
     "base_uri": "https://localhost:8080/",
     "height": 328
    },
    "colab_type": "code",
    "executionInfo": {
     "elapsed": 894,
     "status": "ok",
     "timestamp": 1595412334383,
     "user": {
      "displayName": "Keep Music Weird",
      "photoUrl": "https://lh3.googleusercontent.com/a-/AOh14Gi9IyYwcNDdJY9RrMvpMOuSI7FIspu0Dy8OyRZaVg=s64",
      "userId": "00063312648037822198"
     },
     "user_tz": -60
    },
    "id": "VYoKWig_aawm",
    "outputId": "4ee10bee-1d53-4431-8c7d-19c96bf685e8"
   },
   "outputs": [
    {
     "name": "stdout",
     "output_type": "stream",
     "text": [
      "Confusion matrix, without normalization\n"
     ]
    },
    {
     "data": {
      "image/png": "[encoded data removed]",
      "text/plain": [
       "<Figure size 640x480 with 2 Axes>"
      ]
     },
     "metadata": {},
     "output_type": "display_data"
    }
   ],
   "source": [
    "cm = metrics.confusion_matrix(y_test, pred)\n",
    "plot_confusion_matrix(cm, classes=['FAKE', 'REAL'])"
   ]
  },
  {
   "cell_type": "code",
   "execution_count": 38,
   "metadata": {
    "colab": {
     "base_uri": "https://localhost:8080/",
     "height": 34
    },
    "colab_type": "code",
    "executionInfo": {
     "elapsed": 884,
     "status": "ok",
     "timestamp": 1595412339305,
     "user": {
      "displayName": "Keep Music Weird",
      "photoUrl": "https://lh3.googleusercontent.com/a-/AOh14Gi9IyYwcNDdJY9RrMvpMOuSI7FIspu0Dy8OyRZaVg=s64",
      "userId": "00063312648037822198"
     },
     "user_tz": -60
    },
    "id": "0bXWMP46j1gb",
    "outputId": "695b2442-29f0-494e-8736-4091d2e1c6f6"
   },
   "outputs": [
    {
     "data": {
      "text/plain": [
       "array([0, 0, 1, ..., 0, 1, 0], dtype=int64)"
      ]
     },
     "execution_count": 38,
     "metadata": {},
     "output_type": "execute_result"
    }
   ],
   "source": [
    "classifier.predict(X_test)"
   ]
  },
  {
   "cell_type": "markdown",
   "metadata": {
    "colab_type": "text",
    "id": "OTNEvDg-3Qyb"
   },
   "source": [
    "### Preprocess and transform datapoint text (true['text'][16888]) and try to predict it based on the model"
   ]
  },
  {
   "cell_type": "code",
   "execution_count": 39,
   "metadata": {
    "colab": {
     "base_uri": "https://localhost:8080/",
     "height": 103
    },
    "colab_type": "code",
    "executionInfo": {
     "elapsed": 778,
     "status": "ok",
     "timestamp": 1595412348910,
     "user": {
      "displayName": "Keep Music Weird",
      "photoUrl": "https://lh3.googleusercontent.com/a-/AOh14Gi9IyYwcNDdJY9RrMvpMOuSI7FIspu0Dy8OyRZaVg=s64",
      "userId": "00063312648037822198"
     },
     "user_tz": -60
    },
    "id": "dFnssWQvlDi4",
    "outputId": "4259f7a5-3e4b-4ebf-92d4-96b21ab2809a"
   },
   "outputs": [
    {
     "data": {
      "text/plain": [
       "'cairo reuter three polic offic kill eight other injur shoot raid suspect milit hideout giza southwest egyptian capit two secur sourc said friday sourc said author follow lead apart thought hous eight suspect member hasm group claim sever attack around capit target judg policemen sinc last year suspect milit fled exchang fire sourc said egypt accus hasm milit wing muslim brotherhood islamist group outlaw muslim brotherhood deni islamist insurg sinai peninsula grown sinc militari overthrew presid moham mursi muslim brotherhood mid follow mass protest rule milit group stage insurg pledg allegi islam state blame kill hundr soldier policemen start target area includ egypt christian copt'"
      ]
     },
     "execution_count": 39,
     "metadata": {},
     "output_type": "execute_result"
    }
   ],
   "source": [
    "review = re.sub('[^a-zA-Z]', ' ', true['text'][16888])\n",
    "review = review.lower()\n",
    "review = review.split()\n",
    "    \n",
    "review = [ps.stem(word) for word in review if not word in stopwords.words('english')]\n",
    "review = ' '.join(review)\n",
    "review"
   ]
  },
  {
   "cell_type": "code",
   "execution_count": 42,
   "metadata": {
    "colab": {},
    "colab_type": "code",
    "executionInfo": {
     "elapsed": 802,
     "status": "ok",
     "timestamp": 1595412355593,
     "user": {
      "displayName": "Keep Music Weird",
      "photoUrl": "https://lh3.googleusercontent.com/a-/AOh14Gi9IyYwcNDdJY9RrMvpMOuSI7FIspu0Dy8OyRZaVg=s64",
      "userId": "00063312648037822198"
     },
     "user_tz": -60
    },
    "id": "8iV2HnpQJbws"
   },
   "outputs": [],
   "source": [
    "val = tfidf_v.transform([review]).toarray()"
   ]
  },
  {
   "cell_type": "code",
   "execution_count": 43,
   "metadata": {
    "colab": {
     "base_uri": "https://localhost:8080/",
     "height": 163
    },
    "colab_type": "code",
    "executionInfo": {
     "elapsed": 1247,
     "status": "ok",
     "timestamp": 1595412359672,
     "user": {
      "displayName": "Keep Music Weird",
      "photoUrl": "https://lh3.googleusercontent.com/a-/AOh14Gi9IyYwcNDdJY9RrMvpMOuSI7FIspu0Dy8OyRZaVg=s64",
      "userId": "00063312648037822198"
     },
     "user_tz": -60
    },
    "id": "f62tMmybtiu4",
    "outputId": "7e6ed133-060c-4bd6-a031-1647aad533c1"
   },
   "outputs": [
    {
     "data": {
      "text/html": [
       "<div>\n",
       "<style scoped>\n",
       "    .dataframe tbody tr th:only-of-type {\n",
       "        vertical-align: middle;\n",
       "    }\n",
       "\n",
       "    .dataframe tbody tr th {\n",
       "        vertical-align: top;\n",
       "    }\n",
       "\n",
       "    .dataframe thead th {\n",
       "        text-align: right;\n",
       "    }\n",
       "</style>\n",
       "<table border=\"1\" class=\"dataframe\">\n",
       "  <thead>\n",
       "    <tr style=\"text-align: right;\">\n",
       "      <th></th>\n",
       "      <th>abandon</th>\n",
       "      <th>abc</th>\n",
       "      <th>abc news</th>\n",
       "      <th>abe</th>\n",
       "      <th>abil</th>\n",
       "      <th>abl</th>\n",
       "      <th>abort</th>\n",
       "      <th>abroad</th>\n",
       "      <th>absolut</th>\n",
       "      <th>absurd</th>\n",
       "      <th>...</th>\n",
       "      <th>york reuter</th>\n",
       "      <th>york time</th>\n",
       "      <th>york time report</th>\n",
       "      <th>young</th>\n",
       "      <th>young peopl</th>\n",
       "      <th>younger</th>\n",
       "      <th>youtub</th>\n",
       "      <th>zero</th>\n",
       "      <th>zink</th>\n",
       "      <th>zone</th>\n",
       "    </tr>\n",
       "  </thead>\n",
       "  <tbody>\n",
       "    <tr>\n",
       "      <th>0</th>\n",
       "      <td>0.0</td>\n",
       "      <td>0.0</td>\n",
       "      <td>0.0</td>\n",
       "      <td>0.0</td>\n",
       "      <td>0.0</td>\n",
       "      <td>0.0</td>\n",
       "      <td>0.0</td>\n",
       "      <td>0.0</td>\n",
       "      <td>0.0</td>\n",
       "      <td>0.0</td>\n",
       "      <td>...</td>\n",
       "      <td>0.0</td>\n",
       "      <td>0.0</td>\n",
       "      <td>0.0</td>\n",
       "      <td>0.0</td>\n",
       "      <td>0.0</td>\n",
       "      <td>0.0</td>\n",
       "      <td>0.0</td>\n",
       "      <td>0.0</td>\n",
       "      <td>0.0</td>\n",
       "      <td>0.0</td>\n",
       "    </tr>\n",
       "  </tbody>\n",
       "</table>\n",
       "<p>1 rows × 5000 columns</p>\n",
       "</div>"
      ],
      "text/plain": [
       "   abandon  abc  abc news  abe  abil  abl  abort  abroad  absolut  absurd  \\\n",
       "0      0.0  0.0       0.0  0.0   0.0  0.0    0.0     0.0      0.0     0.0   \n",
       "\n",
       "   ...  york reuter  york time  york time report  young  young peopl  younger  \\\n",
       "0  ...          0.0        0.0               0.0    0.0          0.0      0.0   \n",
       "\n",
       "   youtub  zero  zink  zone  \n",
       "0     0.0   0.0   0.0   0.0  \n",
       "\n",
       "[1 rows x 5000 columns]"
      ]
     },
     "execution_count": 43,
     "metadata": {},
     "output_type": "execute_result"
    }
   ],
   "source": [
    "pd.DataFrame(val, columns=tfidf_v.get_feature_names_out())"
   ]
  },
  {
   "cell_type": "code",
   "execution_count": 44,
   "metadata": {
    "colab": {
     "base_uri": "https://localhost:8080/",
     "height": 34
    },
    "colab_type": "code",
    "executionInfo": {
     "elapsed": 959,
     "status": "ok",
     "timestamp": 1595412364003,
     "user": {
      "displayName": "Keep Music Weird",
      "photoUrl": "https://lh3.googleusercontent.com/a-/AOh14Gi9IyYwcNDdJY9RrMvpMOuSI7FIspu0Dy8OyRZaVg=s64",
      "userId": "00063312648037822198"
     },
     "user_tz": -60
    },
    "id": "vRsnD100WL-K",
    "outputId": "efe571c2-f180-4a0e-bf65-d8eeb7a6addf"
   },
   "outputs": [
    {
     "data": {
      "text/plain": [
       "array([1], dtype=int64)"
      ]
     },
     "execution_count": 44,
     "metadata": {},
     "output_type": "execute_result"
    }
   ],
   "source": [
    "classifier.predict(val)"
   ]
  },
  {
   "cell_type": "markdown",
   "metadata": {
    "colab_type": "text",
    "id": "jMdcb59e2JKd"
   },
   "source": [
    "### Saving model and TFIDF Vectorizer"
   ]
  },
  {
   "cell_type": "code",
   "execution_count": 47,
   "metadata": {
    "colab": {
     "base_uri": "https://localhost:8080/",
     "height": 71
    },
    "colab_type": "code",
    "executionInfo": {
     "elapsed": 787,
     "status": "ok",
     "timestamp": 1595412388708,
     "user": {
      "displayName": "Keep Music Weird",
      "photoUrl": "https://lh3.googleusercontent.com/a-/AOh14Gi9IyYwcNDdJY9RrMvpMOuSI7FIspu0Dy8OyRZaVg=s64",
      "userId": "00063312648037822198"
     },
     "user_tz": -60
    },
    "id": "DbuV0rQyrAGt",
    "outputId": "06d5d761-9677-4a7a-f38d-3b391556453e"
   },
   "outputs": [],
   "source": [
    "import joblib"
   ]
  },
  {
   "cell_type": "code",
   "execution_count": 48,
   "metadata": {
    "colab": {
     "base_uri": "https://localhost:8080/",
     "height": 34
    },
    "colab_type": "code",
    "executionInfo": {
     "elapsed": 825,
     "status": "ok",
     "timestamp": 1595412392044,
     "user": {
      "displayName": "Keep Music Weird",
      "photoUrl": "https://lh3.googleusercontent.com/a-/AOh14Gi9IyYwcNDdJY9RrMvpMOuSI7FIspu0Dy8OyRZaVg=s64",
      "userId": "00063312648037822198"
     },
     "user_tz": -60
    },
    "id": "QxXwq6SktIw7",
    "outputId": "6edef197-a5c1-47b5-e86c-535fc7d6a254"
   },
   "outputs": [
    {
     "data": {
      "text/plain": [
       "['model.pkl']"
      ]
     },
     "execution_count": 48,
     "metadata": {},
     "output_type": "execute_result"
    }
   ],
   "source": [
    "joblib.dump(classifier, 'model.pkl')"
   ]
  },
  {
   "cell_type": "code",
   "execution_count": 49,
   "metadata": {
    "colab": {
     "base_uri": "https://localhost:8080/",
     "height": 34
    },
    "colab_type": "code",
    "executionInfo": {
     "elapsed": 15781,
     "status": "ok",
     "timestamp": 1595412410758,
     "user": {
      "displayName": "Keep Music Weird",
      "photoUrl": "https://lh3.googleusercontent.com/a-/AOh14Gi9IyYwcNDdJY9RrMvpMOuSI7FIspu0Dy8OyRZaVg=s64",
      "userId": "00063312648037822198"
     },
     "user_tz": -60
    },
    "id": "KkOTpucwaoO2",
    "outputId": "ab62f402-6334-4ab1-ad98-7711e1e9d2aa"
   },
   "outputs": [
    {
     "data": {
      "text/plain": [
       "['tfidfvect.pkl']"
      ]
     },
     "execution_count": 49,
     "metadata": {},
     "output_type": "execute_result"
    }
   ],
   "source": [
    "joblib.dump(tfidf_v, 'tfidfvect.pkl')"
   ]
  },
  {
   "cell_type": "markdown",
   "metadata": {
    "colab_type": "text",
    "id": "KMCnuTEM27Rh"
   },
   "source": [
    "### Load model and vectorizer and predict on previous preprocessed datapoint"
   ]
  },
  {
   "cell_type": "code",
   "execution_count": 50,
   "metadata": {
    "colab": {},
    "colab_type": "code",
    "executionInfo": {
     "elapsed": 855,
     "status": "ok",
     "timestamp": 1595412415421,
     "user": {
      "displayName": "Keep Music Weird",
      "photoUrl": "https://lh3.googleusercontent.com/a-/AOh14Gi9IyYwcNDdJY9RrMvpMOuSI7FIspu0Dy8OyRZaVg=s64",
      "userId": "00063312648037822198"
     },
     "user_tz": -60
    },
    "id": "Fx_NwuC4tdpa"
   },
   "outputs": [],
   "source": [
    "joblib_model = joblib.load('model.pkl')"
   ]
  },
  {
   "cell_type": "code",
   "execution_count": 51,
   "metadata": {
    "colab": {},
    "colab_type": "code",
    "executionInfo": {
     "elapsed": 8556,
     "status": "ok",
     "timestamp": 1595412425876,
     "user": {
      "displayName": "Keep Music Weird",
      "photoUrl": "https://lh3.googleusercontent.com/a-/AOh14Gi9IyYwcNDdJY9RrMvpMOuSI7FIspu0Dy8OyRZaVg=s64",
      "userId": "00063312648037822198"
     },
     "user_tz": -60
    },
    "id": "8OlJqPqta1A3"
   },
   "outputs": [],
   "source": [
    "joblib_tfidfvect = joblib.load('tfidfvect.pkl')"
   ]
  },
  {
   "cell_type": "code",
   "execution_count": 52,
   "metadata": {
    "colab": {},
    "colab_type": "code",
    "executionInfo": {
     "elapsed": 4709,
     "status": "ok",
     "timestamp": 1595412438920,
     "user": {
      "displayName": "Keep Music Weird",
      "photoUrl": "https://lh3.googleusercontent.com/a-/AOh14Gi9IyYwcNDdJY9RrMvpMOuSI7FIspu0Dy8OyRZaVg=s64",
      "userId": "00063312648037822198"
     },
     "user_tz": -60
    },
    "id": "Uvii_nCgbBdP"
   },
   "outputs": [],
   "source": [
    "val_pkl = joblib_tfidfvect.transform([review]).toarray()"
   ]
  },
  {
   "cell_type": "code",
   "execution_count": 53,
   "metadata": {
    "colab": {
     "base_uri": "https://localhost:8080/",
     "height": 34
    },
    "colab_type": "code",
    "executionInfo": {
     "elapsed": 761,
     "status": "ok",
     "timestamp": 1595412442441,
     "user": {
      "displayName": "Keep Music Weird",
      "photoUrl": "https://lh3.googleusercontent.com/a-/AOh14Gi9IyYwcNDdJY9RrMvpMOuSI7FIspu0Dy8OyRZaVg=s64",
      "userId": "00063312648037822198"
     },
     "user_tz": -60
    },
    "id": "0ZX4RyA-bLUK",
    "outputId": "fdc2660f-dee6-42b6-f18f-013fea079f48"
   },
   "outputs": [
    {
     "data": {
      "text/plain": [
       "array([1], dtype=int64)"
      ]
     },
     "execution_count": 53,
     "metadata": {},
     "output_type": "execute_result"
    }
   ],
   "source": [
    "joblib_model.predict(val_pkl)"
   ]
  },
  {
   "cell_type": "markdown",
   "metadata": {
    "colab_type": "text",
    "id": "FRN58Kvh2lUP"
   },
   "source": [
    "### Save some datapoints for text random generation"
   ]
  },
  {
   "cell_type": "code",
   "execution_count": 54,
   "metadata": {
    "colab": {},
    "colab_type": "code",
    "executionInfo": {
     "elapsed": 835,
     "status": "ok",
     "timestamp": 1595412453739,
     "user": {
      "displayName": "Keep Music Weird",
      "photoUrl": "https://lh3.googleusercontent.com/a-/AOh14Gi9IyYwcNDdJY9RrMvpMOuSI7FIspu0Dy8OyRZaVg=s64",
      "userId": "00063312648037822198"
     },
     "user_tz": -60
    },
    "id": "w-91d_1T8ATz"
   },
   "outputs": [],
   "source": [
    "frames_2 = [true.loc[0:10][:], fake.loc[0:10][:]]\n",
    "df_2 = pd.concat(frames_2)"
   ]
  },
  {
   "cell_type": "code",
   "execution_count": 55,
   "metadata": {
    "colab": {},
    "colab_type": "code",
    "executionInfo": {
     "elapsed": 1183,
     "status": "ok",
     "timestamp": 1595412457184,
     "user": {
      "displayName": "Keep Music Weird",
      "photoUrl": "https://lh3.googleusercontent.com/a-/AOh14Gi9IyYwcNDdJY9RrMvpMOuSI7FIspu0Dy8OyRZaVg=s64",
      "userId": "00063312648037822198"
     },
     "user_tz": -60
    },
    "id": "rEbsSCxK8L92"
   },
   "outputs": [],
   "source": [
    "df_2.to_csv('random_dataset.csv', index=False)"
   ]
  }
 ],
 "metadata": {
  "colab": {
   "name": "Fake News Prediction 1.ipynb",
   "provenance": []
  },
  "kernelspec": {
   "display_name": "Python 3 (ipykernel)",
   "language": "python",
   "name": "python3"
  },
  "language_info": {
   "codemirror_mode": {
    "name": "ipython",
    "version": 3
   },
   "file_extension": ".py",
   "mimetype": "text/x-python",
   "name": "python",
   "nbconvert_exporter": "python",
   "pygments_lexer": "ipython3",
   "version": "3.7.0"
  }
 },
 "nbformat": 4,
 "nbformat_minor": 1
}
